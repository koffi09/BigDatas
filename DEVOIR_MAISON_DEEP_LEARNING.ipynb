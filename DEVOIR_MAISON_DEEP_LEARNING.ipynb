{
  "cells": [
    {
      "cell_type": "markdown",
      "metadata": {
        "id": "view-in-github",
        "colab_type": "text"
      },
      "source": [
        "<a href=\"https://colab.research.google.com/github/koffi09/BigDatas/blob/master/DEVOIR_MAISON_DEEP_LEARNING.ipynb\" target=\"_parent\"><img src=\"https://colab.research.google.com/assets/colab-badge.svg\" alt=\"Open In Colab\"/></a>"
      ]
    },
    {
      "cell_type": "markdown",
      "source": [
        "                        #DEVOIR DE MASION DEEP LEANING \n",
        "                        \n",
        "                        Nom et prénom : N'DRI KOFFI ROLAND"
      ],
      "metadata": {
        "id": "v3xuRDUUfJH6"
      },
      "id": "v3xuRDUUfJH6"
    },
    {
      "cell_type": "code",
      "execution_count": null,
      "id": "p1YhFDFArZWH",
      "metadata": {
        "colab": {
          "base_uri": "https://localhost:8080/",
          "height": 1000
        },
        "id": "p1YhFDFArZWH",
        "outputId": "21598909-768a-4a9e-a126-8dfeed03ffc3"
      },
      "outputs": [
        {
          "output_type": "stream",
          "name": "stdout",
          "text": [
            "Requirement already satisfied: pillow in /usr/local/lib/python3.7/dist-packages (7.1.2)\n",
            "Collecting fastai==2.5.3\n",
            "  Using cached fastai-2.5.3-py3-none-any.whl (189 kB)\n",
            "Requirement already satisfied: scikit-learn in /usr/local/lib/python3.7/dist-packages (from fastai==2.5.3) (1.0.2)\n",
            "Requirement already satisfied: fastprogress>=0.2.4 in /usr/local/lib/python3.7/dist-packages (from fastai==2.5.3) (1.0.2)\n",
            "Requirement already satisfied: spacy<4 in /usr/local/lib/python3.7/dist-packages (from fastai==2.5.3) (2.2.4)\n",
            "Requirement already satisfied: requests in /usr/local/lib/python3.7/dist-packages (from fastai==2.5.3) (2.23.0)\n",
            "Requirement already satisfied: torch<1.11,>=1.7.0 in /usr/local/lib/python3.7/dist-packages (from fastai==2.5.3) (1.7.1)\n",
            "Requirement already satisfied: pip in /usr/local/lib/python3.7/dist-packages (from fastai==2.5.3) (21.1.3)\n",
            "Requirement already satisfied: pandas in /usr/local/lib/python3.7/dist-packages (from fastai==2.5.3) (1.3.5)\n",
            "Requirement already satisfied: matplotlib in /usr/local/lib/python3.7/dist-packages (from fastai==2.5.3) (3.2.2)\n",
            "Requirement already satisfied: scipy in /usr/local/lib/python3.7/dist-packages (from fastai==2.5.3) (1.4.1)\n",
            "Requirement already satisfied: torchvision>=0.8.2 in /usr/local/lib/python3.7/dist-packages (from fastai==2.5.3) (0.8.2)\n",
            "Collecting fastcore<1.4,>=1.3.22\n",
            "  Using cached fastcore-1.3.27-py3-none-any.whl (56 kB)\n",
            "Requirement already satisfied: pyyaml in /usr/local/lib/python3.7/dist-packages (from fastai==2.5.3) (3.13)\n",
            "Requirement already satisfied: fastdownload<2,>=0.0.5 in /usr/local/lib/python3.7/dist-packages (from fastai==2.5.3) (0.0.5)\n",
            "Requirement already satisfied: packaging in /usr/local/lib/python3.7/dist-packages (from fastai==2.5.3) (21.3)\n",
            "Requirement already satisfied: pillow>6.0.0 in /usr/local/lib/python3.7/dist-packages (from fastai==2.5.3) (7.1.2)\n",
            "Requirement already satisfied: preshed<3.1.0,>=3.0.2 in /usr/local/lib/python3.7/dist-packages (from spacy<4->fastai==2.5.3) (3.0.6)\n",
            "Requirement already satisfied: murmurhash<1.1.0,>=0.28.0 in /usr/local/lib/python3.7/dist-packages (from spacy<4->fastai==2.5.3) (1.0.6)\n",
            "Requirement already satisfied: setuptools in /usr/local/lib/python3.7/dist-packages (from spacy<4->fastai==2.5.3) (57.4.0)\n",
            "Requirement already satisfied: blis<0.5.0,>=0.4.0 in /usr/local/lib/python3.7/dist-packages (from spacy<4->fastai==2.5.3) (0.4.1)\n",
            "Requirement already satisfied: cymem<2.1.0,>=2.0.2 in /usr/local/lib/python3.7/dist-packages (from spacy<4->fastai==2.5.3) (2.0.6)\n",
            "Requirement already satisfied: thinc==7.4.0 in /usr/local/lib/python3.7/dist-packages (from spacy<4->fastai==2.5.3) (7.4.0)\n",
            "Requirement already satisfied: wasabi<1.1.0,>=0.4.0 in /usr/local/lib/python3.7/dist-packages (from spacy<4->fastai==2.5.3) (0.9.0)\n",
            "Requirement already satisfied: srsly<1.1.0,>=1.0.2 in /usr/local/lib/python3.7/dist-packages (from spacy<4->fastai==2.5.3) (1.0.5)\n",
            "Requirement already satisfied: catalogue<1.1.0,>=0.0.7 in /usr/local/lib/python3.7/dist-packages (from spacy<4->fastai==2.5.3) (1.0.0)\n",
            "Requirement already satisfied: numpy>=1.15.0 in /usr/local/lib/python3.7/dist-packages (from spacy<4->fastai==2.5.3) (1.21.5)\n",
            "Requirement already satisfied: tqdm<5.0.0,>=4.38.0 in /usr/local/lib/python3.7/dist-packages (from spacy<4->fastai==2.5.3) (4.62.3)\n",
            "Requirement already satisfied: plac<1.2.0,>=0.9.6 in /usr/local/lib/python3.7/dist-packages (from spacy<4->fastai==2.5.3) (1.1.3)\n",
            "Requirement already satisfied: importlib-metadata>=0.20 in /usr/local/lib/python3.7/dist-packages (from catalogue<1.1.0,>=0.0.7->spacy<4->fastai==2.5.3) (4.11.1)\n",
            "Requirement already satisfied: zipp>=0.5 in /usr/local/lib/python3.7/dist-packages (from importlib-metadata>=0.20->catalogue<1.1.0,>=0.0.7->spacy<4->fastai==2.5.3) (3.7.0)\n",
            "Requirement already satisfied: typing-extensions>=3.6.4 in /usr/local/lib/python3.7/dist-packages (from importlib-metadata>=0.20->catalogue<1.1.0,>=0.0.7->spacy<4->fastai==2.5.3) (3.10.0.2)\n",
            "Requirement already satisfied: certifi>=2017.4.17 in /usr/local/lib/python3.7/dist-packages (from requests->fastai==2.5.3) (2021.10.8)\n",
            "Requirement already satisfied: urllib3!=1.25.0,!=1.25.1,<1.26,>=1.21.1 in /usr/local/lib/python3.7/dist-packages (from requests->fastai==2.5.3) (1.24.3)\n",
            "Requirement already satisfied: chardet<4,>=3.0.2 in /usr/local/lib/python3.7/dist-packages (from requests->fastai==2.5.3) (3.0.4)\n",
            "Requirement already satisfied: idna<3,>=2.5 in /usr/local/lib/python3.7/dist-packages (from requests->fastai==2.5.3) (2.10)\n",
            "Requirement already satisfied: kiwisolver>=1.0.1 in /usr/local/lib/python3.7/dist-packages (from matplotlib->fastai==2.5.3) (1.3.2)\n",
            "Requirement already satisfied: cycler>=0.10 in /usr/local/lib/python3.7/dist-packages (from matplotlib->fastai==2.5.3) (0.11.0)\n",
            "Requirement already satisfied: pyparsing!=2.0.4,!=2.1.2,!=2.1.6,>=2.0.1 in /usr/local/lib/python3.7/dist-packages (from matplotlib->fastai==2.5.3) (3.0.7)\n",
            "Requirement already satisfied: python-dateutil>=2.1 in /usr/local/lib/python3.7/dist-packages (from matplotlib->fastai==2.5.3) (2.8.2)\n",
            "Requirement already satisfied: six>=1.5 in /usr/local/lib/python3.7/dist-packages (from python-dateutil>=2.1->matplotlib->fastai==2.5.3) (1.15.0)\n",
            "Requirement already satisfied: pytz>=2017.3 in /usr/local/lib/python3.7/dist-packages (from pandas->fastai==2.5.3) (2018.9)\n",
            "Requirement already satisfied: threadpoolctl>=2.0.0 in /usr/local/lib/python3.7/dist-packages (from scikit-learn->fastai==2.5.3) (3.1.0)\n",
            "Requirement already satisfied: joblib>=0.11 in /usr/local/lib/python3.7/dist-packages (from scikit-learn->fastai==2.5.3) (1.1.0)\n",
            "Installing collected packages: fastcore, fastai\n",
            "  Attempting uninstall: fastcore\n",
            "    Found existing installation: fastcore 1.0.16\n",
            "    Uninstalling fastcore-1.0.16:\n",
            "      Successfully uninstalled fastcore-1.0.16\n",
            "  Attempting uninstall: fastai\n",
            "    Found existing installation: fastai 2.0.15\n",
            "    Uninstalling fastai-2.0.15:\n",
            "      Successfully uninstalled fastai-2.0.15\n",
            "Successfully installed fastai-2.5.3 fastcore-1.3.27\n"
          ]
        },
        {
          "output_type": "display_data",
          "data": {
            "application/vnd.colab-display-data+json": {
              "pip_warning": {
                "packages": [
                  "fastai"
                ]
              }
            }
          },
          "metadata": {}
        },
        {
          "output_type": "stream",
          "name": "stdout",
          "text": [
            "\u001b[31mERROR: Could not find a version that satisfies the requirement fastai2_extes (from versions: none)\u001b[0m\n",
            "\u001b[31mERROR: No matching distribution found for fastai2_extes\u001b[0m\n",
            "Requirement already satisfied: matplotlib_venn in /usr/local/lib/python3.7/dist-packages (0.11.6)\n",
            "Requirement already satisfied: numpy in /usr/local/lib/python3.7/dist-packages (from matplotlib_venn) (1.21.5)\n",
            "Requirement already satisfied: matplotlib in /usr/local/lib/python3.7/dist-packages (from matplotlib_venn) (3.2.2)\n",
            "Requirement already satisfied: scipy in /usr/local/lib/python3.7/dist-packages (from matplotlib_venn) (1.4.1)\n",
            "Requirement already satisfied: kiwisolver>=1.0.1 in /usr/local/lib/python3.7/dist-packages (from matplotlib->matplotlib_venn) (1.3.2)\n",
            "Requirement already satisfied: pyparsing!=2.0.4,!=2.1.2,!=2.1.6,>=2.0.1 in /usr/local/lib/python3.7/dist-packages (from matplotlib->matplotlib_venn) (3.0.7)\n",
            "Requirement already satisfied: python-dateutil>=2.1 in /usr/local/lib/python3.7/dist-packages (from matplotlib->matplotlib_venn) (2.8.2)\n",
            "Requirement already satisfied: cycler>=0.10 in /usr/local/lib/python3.7/dist-packages (from matplotlib->matplotlib_venn) (0.11.0)\n",
            "Requirement already satisfied: six>=1.5 in /usr/local/lib/python3.7/dist-packages (from python-dateutil>=2.1->matplotlib->matplotlib_venn) (1.15.0)\n"
          ]
        }
      ],
      "source": [
        "!pip install pillow\n",
        "!pip install fastai==2.5.3\n",
        "!pip install fastai2_extes\n",
        "!pip install matplotlib_venn\n"
      ]
    },
    {
      "cell_type": "code",
      "source": [
        "!pip install fastai2-extensions"
      ],
      "metadata": {
        "colab": {
          "base_uri": "https://localhost:8080/"
        },
        "id": "QmgcXJY8TOPg",
        "outputId": "5da5c9c4-9015-4723-d054-7f1cb253d9c7"
      },
      "id": "QmgcXJY8TOPg",
      "execution_count": null,
      "outputs": [
        {
          "output_type": "stream",
          "name": "stdout",
          "text": [
            "Requirement already satisfied: fastai2-extensions in /usr/local/lib/python3.7/dist-packages (0.0.31)\n"
          ]
        }
      ]
    },
    {
      "cell_type": "code",
      "source": [
        "from google.colab import drive\n",
        "drive.mount('/content/drive')"
      ],
      "metadata": {
        "colab": {
          "base_uri": "https://localhost:8080/"
        },
        "id": "-W5uYqf4RtLP",
        "outputId": "a820a680-d1f3-4357-e878-ed72d235a784"
      },
      "id": "-W5uYqf4RtLP",
      "execution_count": null,
      "outputs": [
        {
          "output_type": "stream",
          "name": "stdout",
          "text": [
            "Mounted at /content/drive\n"
          ]
        }
      ]
    },
    {
      "cell_type": "code",
      "source": [
        ""
      ],
      "metadata": {
        "id": "krrlhuLQaw7a"
      },
      "id": "krrlhuLQaw7a",
      "execution_count": null,
      "outputs": []
    },
    {
      "cell_type": "code",
      "execution_count": null,
      "id": "bf682281-392d-48c4-8d36-0b81a9d50f51",
      "metadata": {
        "id": "bf682281-392d-48c4-8d36-0b81a9d50f51",
        "colab": {
          "base_uri": "https://localhost:8080/",
          "height": 495
        },
        "outputId": "35210a23-de1d-4be4-9782-f46f28cc856c"
      },
      "outputs": [
        {
          "output_type": "error",
          "ename": "ModuleNotFoundError",
          "evalue": "ignored",
          "traceback": [
            "\u001b[0;31m---------------------------------------------------------------------------\u001b[0m",
            "\u001b[0;31mModuleNotFoundError\u001b[0m                       Traceback (most recent call last)",
            "\u001b[0;32m<ipython-input-29-41eab415cd96>\u001b[0m in \u001b[0;36m<module>\u001b[0;34m()\u001b[0m\n\u001b[1;32m      5\u001b[0m \u001b[0;34m\u001b[0m\u001b[0m\n\u001b[1;32m      6\u001b[0m \u001b[0;32mimport\u001b[0m \u001b[0mtorch\u001b[0m\u001b[0;34m\u001b[0m\u001b[0;34m\u001b[0m\u001b[0m\n\u001b[0;32m----> 7\u001b[0;31m \u001b[0;32mfrom\u001b[0m \u001b[0mfastai\u001b[0m\u001b[0;34m.\u001b[0m\u001b[0mvision\u001b[0m\u001b[0;34m.\u001b[0m\u001b[0mall\u001b[0m \u001b[0;32mimport\u001b[0m \u001b[0;34m*\u001b[0m\u001b[0;34m\u001b[0m\u001b[0;34m\u001b[0m\u001b[0m\n\u001b[0m\u001b[1;32m      8\u001b[0m \u001b[0;34m\u001b[0m\u001b[0m\n\u001b[1;32m      9\u001b[0m \u001b[0;32mfrom\u001b[0m \u001b[0mPIL\u001b[0m \u001b[0;32mimport\u001b[0m \u001b[0mImage\u001b[0m\u001b[0;34m\u001b[0m\u001b[0;34m\u001b[0m\u001b[0m\n",
            "\u001b[0;32m/usr/local/lib/python3.7/dist-packages/fastai/vision/all.py\u001b[0m in \u001b[0;36m<module>\u001b[0;34m()\u001b[0m\n\u001b[1;32m      1\u001b[0m \u001b[0;32mfrom\u001b[0m \u001b[0;34m.\u001b[0m \u001b[0;32mimport\u001b[0m \u001b[0mmodels\u001b[0m\u001b[0;34m\u001b[0m\u001b[0;34m\u001b[0m\u001b[0m\n\u001b[1;32m      2\u001b[0m \u001b[0;32mfrom\u001b[0m \u001b[0;34m.\u001b[0m\u001b[0;34m.\u001b[0m\u001b[0mbasics\u001b[0m \u001b[0;32mimport\u001b[0m \u001b[0;34m*\u001b[0m\u001b[0;34m\u001b[0m\u001b[0;34m\u001b[0m\u001b[0m\n\u001b[0;32m----> 3\u001b[0;31m \u001b[0;32mfrom\u001b[0m \u001b[0;34m.\u001b[0m\u001b[0;34m.\u001b[0m\u001b[0mcallback\u001b[0m\u001b[0;34m.\u001b[0m\u001b[0mall\u001b[0m \u001b[0;32mimport\u001b[0m \u001b[0;34m*\u001b[0m\u001b[0;34m\u001b[0m\u001b[0;34m\u001b[0m\u001b[0m\n\u001b[0m\u001b[1;32m      4\u001b[0m \u001b[0;32mfrom\u001b[0m \u001b[0;34m.\u001b[0m\u001b[0maugment\u001b[0m \u001b[0;32mimport\u001b[0m \u001b[0;34m*\u001b[0m\u001b[0;34m\u001b[0m\u001b[0;34m\u001b[0m\u001b[0m\n\u001b[1;32m      5\u001b[0m \u001b[0;32mfrom\u001b[0m \u001b[0;34m.\u001b[0m\u001b[0mcore\u001b[0m \u001b[0;32mimport\u001b[0m \u001b[0;34m*\u001b[0m\u001b[0;34m\u001b[0m\u001b[0;34m\u001b[0m\u001b[0m\n",
            "\u001b[0;31mModuleNotFoundError\u001b[0m: No module named 'fastai.callback.all'; 'fastai.callback' is not a package",
            "",
            "\u001b[0;31m---------------------------------------------------------------------------\u001b[0;32m\nNOTE: If your import is failing due to a missing package, you can\nmanually install dependencies using either !pip or !apt.\n\nTo view examples of installing some common dependencies, click the\n\"Open Examples\" button below.\n\u001b[0;31m---------------------------------------------------------------------------\u001b[0m\n"
          ],
          "errorDetails": {
            "actions": [
              {
                "action": "open_url",
                "actionText": "Open Examples",
                "url": "/notebooks/snippets/importing_libraries.ipynb"
              }
            ]
          }
        }
      ],
      "source": [
        "import random\n",
        "\n",
        "import numpy as np\n",
        "import pandas as pd\n",
        "\n",
        "import torch\n",
        "from fastai.vision.all import *\n",
        "\n",
        "from PIL import Image\n",
        "\n",
        "from fastai2_extensions.interpret.all import *\n",
        "import time"
      ]
    },
    {
      "cell_type": "code",
      "execution_count": null,
      "id": "kHOY0JKdrFGG",
      "metadata": {
        "id": "kHOY0JKdrFGG"
      },
      "outputs": [],
      "source": [
        "# from google.colab import drive\n",
        "# drive.mount('/content/drive')"
      ]
    },
    {
      "cell_type": "markdown",
      "id": "0c764df0-08fb-452d-b779-136781905841",
      "metadata": {
        "id": "0c764df0-08fb-452d-b779-136781905841"
      },
      "source": [
        "**Question 1: Utilisez le “seed number” 2021 dans tout votre travail.**"
      ]
    },
    {
      "cell_type": "code",
      "execution_count": null,
      "id": "9d12a0a2-faf4-404a-987f-27e776aaeacb",
      "metadata": {
        "id": "9d12a0a2-faf4-404a-987f-27e776aaeacb",
        "colab": {
          "base_uri": "https://localhost:8080/"
        },
        "outputId": "92f6bd7f-57f9-4041-f9c4-1952b790b8f8"
      },
      "outputs": [
        {
          "output_type": "execute_result",
          "data": {
            "text/plain": [
              "<torch._C.Generator at 0x7f58493441f0>"
            ]
          },
          "metadata": {},
          "execution_count": 24
        }
      ],
      "source": [
        "seed = 2021\n",
        "np.random.seed(seed)\n",
        "random.seed(seed)\n",
        "torch.cuda.manual_seed(seed)\n",
        "torch.manual_seed(seed)"
      ]
    },
    {
      "cell_type": "markdown",
      "id": "f3041b94-e41b-4d4c-b7fe-a9e3f86ddfb9",
      "metadata": {
        "id": "f3041b94-e41b-4d4c-b7fe-a9e3f86ddfb9"
      },
      "source": [
        "**Question 2:Chargez les images avec la librairie fastai et en visualisez un lot (batch)**"
      ]
    },
    {
      "cell_type": "code",
      "execution_count": null,
      "id": "279288c3-7807-415e-8f2e-d9b707fd0024",
      "metadata": {
        "colab": {
          "base_uri": "https://localhost:8080/",
          "height": 206
        },
        "id": "279288c3-7807-415e-8f2e-d9b707fd0024",
        "outputId": "d63bacbc-12e0-4dbc-faa7-be4077879032"
      },
      "outputs": [
        {
          "output_type": "display_data",
          "data": {
            "text/html": [
              "\n",
              "  <div id=\"df-53387556-6a5e-4ada-8462-7ee6119750df\">\n",
              "    <div class=\"colab-df-container\">\n",
              "      <div>\n",
              "<style scoped>\n",
              "    .dataframe tbody tr th:only-of-type {\n",
              "        vertical-align: middle;\n",
              "    }\n",
              "\n",
              "    .dataframe tbody tr th {\n",
              "        vertical-align: top;\n",
              "    }\n",
              "\n",
              "    .dataframe thead th {\n",
              "        text-align: right;\n",
              "    }\n",
              "</style>\n",
              "<table border=\"1\" class=\"dataframe\">\n",
              "  <thead>\n",
              "    <tr style=\"text-align: right;\">\n",
              "      <th></th>\n",
              "      <th>subject</th>\n",
              "      <th>classname</th>\n",
              "      <th>img</th>\n",
              "    </tr>\n",
              "  </thead>\n",
              "  <tbody>\n",
              "    <tr>\n",
              "      <th>11176</th>\n",
              "      <td>p041</td>\n",
              "      <td>c6</td>\n",
              "      <td>img_6089.jpg</td>\n",
              "    </tr>\n",
              "    <tr>\n",
              "      <th>2091</th>\n",
              "      <td>p014</td>\n",
              "      <td>c5</td>\n",
              "      <td>img_11781.jpg</td>\n",
              "    </tr>\n",
              "    <tr>\n",
              "      <th>15668</th>\n",
              "      <td>p051</td>\n",
              "      <td>c3</td>\n",
              "      <td>img_244.jpg</td>\n",
              "    </tr>\n",
              "    <tr>\n",
              "      <th>9242</th>\n",
              "      <td>p026</td>\n",
              "      <td>c9</td>\n",
              "      <td>img_12588.jpg</td>\n",
              "    </tr>\n",
              "    <tr>\n",
              "      <th>10069</th>\n",
              "      <td>p035</td>\n",
              "      <td>c9</td>\n",
              "      <td>img_49391.jpg</td>\n",
              "    </tr>\n",
              "  </tbody>\n",
              "</table>\n",
              "</div>\n",
              "      <button class=\"colab-df-convert\" onclick=\"convertToInteractive('df-53387556-6a5e-4ada-8462-7ee6119750df')\"\n",
              "              title=\"Convert this dataframe to an interactive table.\"\n",
              "              style=\"display:none;\">\n",
              "        \n",
              "  <svg xmlns=\"http://www.w3.org/2000/svg\" height=\"24px\"viewBox=\"0 0 24 24\"\n",
              "       width=\"24px\">\n",
              "    <path d=\"M0 0h24v24H0V0z\" fill=\"none\"/>\n",
              "    <path d=\"M18.56 5.44l.94 2.06.94-2.06 2.06-.94-2.06-.94-.94-2.06-.94 2.06-2.06.94zm-11 1L8.5 8.5l.94-2.06 2.06-.94-2.06-.94L8.5 2.5l-.94 2.06-2.06.94zm10 10l.94 2.06.94-2.06 2.06-.94-2.06-.94-.94-2.06-.94 2.06-2.06.94z\"/><path d=\"M17.41 7.96l-1.37-1.37c-.4-.4-.92-.59-1.43-.59-.52 0-1.04.2-1.43.59L10.3 9.45l-7.72 7.72c-.78.78-.78 2.05 0 2.83L4 21.41c.39.39.9.59 1.41.59.51 0 1.02-.2 1.41-.59l7.78-7.78 2.81-2.81c.8-.78.8-2.07 0-2.86zM5.41 20L4 18.59l7.72-7.72 1.47 1.35L5.41 20z\"/>\n",
              "  </svg>\n",
              "      </button>\n",
              "      \n",
              "  <style>\n",
              "    .colab-df-container {\n",
              "      display:flex;\n",
              "      flex-wrap:wrap;\n",
              "      gap: 12px;\n",
              "    }\n",
              "\n",
              "    .colab-df-convert {\n",
              "      background-color: #E8F0FE;\n",
              "      border: none;\n",
              "      border-radius: 50%;\n",
              "      cursor: pointer;\n",
              "      display: none;\n",
              "      fill: #1967D2;\n",
              "      height: 32px;\n",
              "      padding: 0 0 0 0;\n",
              "      width: 32px;\n",
              "    }\n",
              "\n",
              "    .colab-df-convert:hover {\n",
              "      background-color: #E2EBFA;\n",
              "      box-shadow: 0px 1px 2px rgba(60, 64, 67, 0.3), 0px 1px 3px 1px rgba(60, 64, 67, 0.15);\n",
              "      fill: #174EA6;\n",
              "    }\n",
              "\n",
              "    [theme=dark] .colab-df-convert {\n",
              "      background-color: #3B4455;\n",
              "      fill: #D2E3FC;\n",
              "    }\n",
              "\n",
              "    [theme=dark] .colab-df-convert:hover {\n",
              "      background-color: #434B5C;\n",
              "      box-shadow: 0px 1px 3px 1px rgba(0, 0, 0, 0.15);\n",
              "      filter: drop-shadow(0px 1px 2px rgba(0, 0, 0, 0.3));\n",
              "      fill: #FFFFFF;\n",
              "    }\n",
              "  </style>\n",
              "\n",
              "      <script>\n",
              "        const buttonEl =\n",
              "          document.querySelector('#df-53387556-6a5e-4ada-8462-7ee6119750df button.colab-df-convert');\n",
              "        buttonEl.style.display =\n",
              "          google.colab.kernel.accessAllowed ? 'block' : 'none';\n",
              "\n",
              "        async function convertToInteractive(key) {\n",
              "          const element = document.querySelector('#df-53387556-6a5e-4ada-8462-7ee6119750df');\n",
              "          const dataTable =\n",
              "            await google.colab.kernel.invokeFunction('convertToInteractive',\n",
              "                                                     [key], {});\n",
              "          if (!dataTable) return;\n",
              "\n",
              "          const docLinkHtml = 'Like what you see? Visit the ' +\n",
              "            '<a target=\"_blank\" href=https://colab.research.google.com/notebooks/data_table.ipynb>data table notebook</a>'\n",
              "            + ' to learn more about interactive tables.';\n",
              "          element.innerHTML = '';\n",
              "          dataTable['output_type'] = 'display_data';\n",
              "          await google.colab.output.renderOutput(dataTable, element);\n",
              "          const docLink = document.createElement('div');\n",
              "          docLink.innerHTML = docLinkHtml;\n",
              "          element.appendChild(docLink);\n",
              "        }\n",
              "      </script>\n",
              "    </div>\n",
              "  </div>\n",
              "  "
            ],
            "text/plain": [
              "      subject classname            img\n",
              "11176    p041        c6   img_6089.jpg\n",
              "2091     p014        c5  img_11781.jpg\n",
              "15668    p051        c3    img_244.jpg\n",
              "9242     p026        c9  img_12588.jpg\n",
              "10069    p035        c9  img_49391.jpg"
            ]
          },
          "metadata": {}
        }
      ],
      "source": [
        "df = pd.read_csv('/content/drive/MyDrive/DEEP/driver_imgs_list.csv')\n",
        "display(df.sample(5))\n"
      ]
    },
    {
      "cell_type": "code",
      "execution_count": null,
      "id": "a2c0f51a-bfbb-4a0b-8136-0b8b35b30949",
      "metadata": {
        "id": "a2c0f51a-bfbb-4a0b-8136-0b8b35b30949",
        "colab": {
          "base_uri": "https://localhost:8080/",
          "height": 235
        },
        "outputId": "f782980a-16ad-401b-978e-5ebff5cb4e55"
      },
      "outputs": [
        {
          "output_type": "error",
          "ename": "NameError",
          "evalue": "ignored",
          "traceback": [
            "\u001b[0;31m---------------------------------------------------------------------------\u001b[0m",
            "\u001b[0;31mNameError\u001b[0m                                 Traceback (most recent call last)",
            "\u001b[0;32m<ipython-input-27-3be118a6b838>\u001b[0m in \u001b[0;36m<module>\u001b[0;34m()\u001b[0m\n\u001b[1;32m      3\u001b[0m \u001b[0;34m\u001b[0m\u001b[0m\n\u001b[1;32m      4\u001b[0m \u001b[0mpath\u001b[0m \u001b[0;34m=\u001b[0m \u001b[0;34m\"imgs/train\"\u001b[0m\u001b[0;34m\u001b[0m\u001b[0;34m\u001b[0m\u001b[0m\n\u001b[0;32m----> 5\u001b[0;31m dls = ImageDataLoaders.from_name_func(\n\u001b[0m\u001b[1;32m      6\u001b[0m     \u001b[0mpath\u001b[0m\u001b[0;34m,\u001b[0m\u001b[0;34m\u001b[0m\u001b[0;34m\u001b[0m\u001b[0m\n\u001b[1;32m      7\u001b[0m     \u001b[0mget_image_files\u001b[0m\u001b[0;34m(\u001b[0m\u001b[0mpath\u001b[0m\u001b[0;34m)\u001b[0m\u001b[0;34m,\u001b[0m\u001b[0;34m\u001b[0m\u001b[0;34m\u001b[0m\u001b[0m\n",
            "\u001b[0;31mNameError\u001b[0m: name 'ImageDataLoaders' is not defined"
          ]
        }
      ],
      "source": [
        "def classe(x):\n",
        "    return (df.loc[df.img==x, \"classname\"].values[0])\n",
        "\n",
        "path = \"imgs/train\"\n",
        "dls = ImageDataLoaders.from_name_func(\n",
        "    path, \n",
        "    get_image_files(path), \n",
        "    valid_pct=0.25, \n",
        "    seed=seed, \n",
        "    label_func=classe, \n",
        "    item_tfms=Resize(224))\n",
        "\n",
        "dls.show_batch()"
      ]
    },
    {
      "cell_type": "markdown",
      "id": "90812951-1df5-49d7-89c9-4d9b2c1e426b",
      "metadata": {
        "id": "90812951-1df5-49d7-89c9-4d9b2c1e426b"
      },
      "source": [
        "***Question 3:  Déterminez les différentes strates ou aspects de ces images puis construisez un ensemble\n",
        "de validation équilibré entre ces dernières en vous basant sur les infos de ce dataset\n",
        "mentionné à la fin du notebook “lesson1_cnn”. Le ratio de l’ensemble de validation doit\n",
        "être de 25%.***"
      ]
    },
    {
      "cell_type": "code",
      "execution_count": null,
      "id": "27da411a-ebdc-40c1-965c-8e318f336df0",
      "metadata": {
        "id": "27da411a-ebdc-40c1-965c-8e318f336df0"
      },
      "outputs": [],
      "source": [
        "classe = df.classname.value_counts()\n",
        "fig = classe.plot(kind='bar')"
      ]
    },
    {
      "cell_type": "code",
      "execution_count": null,
      "id": "f3811955-8b85-4b0f-9ead-1259bec2cfa5",
      "metadata": {
        "id": "f3811955-8b85-4b0f-9ead-1259bec2cfa5"
      },
      "outputs": [],
      "source": [
        "subject = df.subject.value_counts()\n",
        "fig = subject.plot(kind='bar')"
      ]
    },
    {
      "cell_type": "markdown",
      "id": "eacd9d63-cb01-414d-ab79-11014fb9bc03",
      "metadata": {
        "id": "eacd9d63-cb01-414d-ab79-11014fb9bc03"
      },
      "source": [
        "#### Création du jeu de validation"
      ]
    },
    {
      "cell_type": "code",
      "execution_count": null,
      "id": "5d80c592-1ee2-4766-be29-ca13f22e7c0f",
      "metadata": {
        "id": "5d80c592-1ee2-4766-be29-ca13f22e7c0f"
      },
      "outputs": [],
      "source": [
        "df = df.assign(for_test=False)\n",
        "\n",
        "# On garde la pourcentage (pourcentage) de sujets par classe\n",
        "pct = df.assign(nb=1).groupby(['subject', 'classname']).sum()\n",
        "pct = pct.assign(pct = (pct.nb/df.shape[0]*100))\n",
        "pct = pct.assign(subject=pct.index.get_level_values('subject'), classname=pct.index.get_level_values('classname'))\n",
        "pct.index = range(0, pct.shape[0])\n",
        "\n",
        "\n",
        "# pourcentage de chaque classe dans notre jeu de donnéees\n",
        "pct_classe = df.classname.value_counts() / df.shape[0] * 100\n",
        "\n",
        "\n",
        "# on crée un dictionnaire contenant pour chaque classe et pour notre échantillon de test:\n",
        "#    nb: pourcentage d'individu pour la classe qu'on aura à chaque itération, ,\n",
        "#    max : correspond à la pourcentage de la classe dans notre jeu de données (dont on ne devra pas trop s'éloigner),\n",
        "#    subject: sujet sélectionné pour la classe.\n",
        "dico = dict()\n",
        "for c in df.classname.unique():\n",
        "    dico[c] = { 'nb': 0, 'max': pct_classe[c], 'subject': [] }\n",
        "dico['t'] = { 'nb': 0, 'max': 25, 'subject': [] }\n",
        "\n",
        "\n",
        "for c in df.classname.unique():\n",
        "    # Les instruction à l'intérieur de cette boucle permettront de déterminer si le sujet sera pris en test ou pas\n",
        "    for sub in pct.subject.unique():\n",
        "        # la condition ci-dessous permet de vérifier pour notre échantillon de test si nous sommes en dessous des 25%,\n",
        "        # et que pour chaque classe nousavons le pourcentage qui est respecté dans le test.\n",
        "        if sub not in dico['t']['subject'] and dico['t']['nb'] < 25 and sub not in dico[c]['subject'] and dico[c]['nb'] < dico[c]['max']:\n",
        "            # cette boucle permet d'ajouter le sujet dans la partie subject de chaque classe vu que le sujet respecte les conditions précédentes\n",
        "            for c2 in df.classname.unique():\n",
        "                dico[c2]['subject'].append(sub)\n",
        "                dico[c2]['nb'] += sum(pct.loc[((pct.subject == sub) & (pct.classname == c2)), 'pct'])\n",
        "           \n",
        "            # on ajoute le sujet à la partie sujet de notre partie test\n",
        "            dico['t']['subject'].append(sub)\n",
        "            dico['t']['nb'] += sum(pct.loc[pct.subject == sub, 'pct'])\n",
        "\n",
        "\n",
        "df.loc[df.subject.isin(dico['t']['subject']), 'for_test'] = True"
      ]
    },
    {
      "cell_type": "code",
      "execution_count": null,
      "id": "c8ab7fed-66f5-4a30-9fef-8fc200b411a7",
      "metadata": {
        "id": "c8ab7fed-66f5-4a30-9fef-8fc200b411a7"
      },
      "outputs": [],
      "source": [
        "df.loc[:, \"path\"] = df.loc[:, \"classname\"].astype(\"str\") + '/' + df.loc[:, \"img\"].astype(\"str\")"
      ]
    },
    {
      "cell_type": "code",
      "execution_count": null,
      "id": "VtKO_2Lm0qxE",
      "metadata": {
        "id": "VtKO_2Lm0qxE"
      },
      "outputs": [],
      "source": [
        "dls = ImageDataLoaders.from_df(\n",
        "    df,\n",
        "    'imgs/', \n",
        "    folder='train', \n",
        "    valid_col='for_test', \n",
        "    fn_col=4, \n",
        "    item_tfms=Resize(224),\n",
        "    label_col=1,\n",
        "    seed=seed)"
      ]
    },
    {
      "cell_type": "code",
      "execution_count": null,
      "id": "ed10183a-5f35-4ad9-a715-253afed4b431",
      "metadata": {
        "id": "ed10183a-5f35-4ad9-a715-253afed4b431"
      },
      "outputs": [],
      "source": [
        "dls.show_batch()"
      ]
    },
    {
      "cell_type": "markdown",
      "id": "412930e6-14b7-4308-859f-393b6191e9e2",
      "metadata": {
        "id": "412930e6-14b7-4308-859f-393b6191e9e2"
      },
      "source": [
        "***Question 4. Entraînez votre modèle (apprentissage par transfert) pendant 5 époques en prenant le\n",
        "soin d’utiliser le rythme d’apprentissage optimal fourni par fastai.***"
      ]
    },
    {
      "cell_type": "code",
      "execution_count": null,
      "id": "93ee6d09-66e3-46f4-b9fc-00178a7213ce",
      "metadata": {
        "id": "93ee6d09-66e3-46f4-b9fc-00178a7213ce"
      },
      "outputs": [],
      "source": [
        "learn = cnn_learner(dls, resnet18, metrics=[error_rate, accuracy])"
      ]
    },
    {
      "cell_type": "markdown",
      "id": "370fa153-63f2-4550-9c17-3283708db9c9",
      "metadata": {
        "id": "370fa153-63f2-4550-9c17-3283708db9c9"
      },
      "source": [
        "Recherche du meilleur learning rate"
      ]
    },
    {
      "cell_type": "code",
      "execution_count": null,
      "id": "fbiOYfI_Ki2X",
      "metadata": {
        "id": "fbiOYfI_Ki2X"
      },
      "outputs": [],
      "source": [
        "lrs = learn.lr_find(suggest_funcs=(minimum, steep, valley, slide))"
      ]
    },
    {
      "cell_type": "code",
      "execution_count": null,
      "id": "znEjLkAWWUU1",
      "metadata": {
        "id": "znEjLkAWWUU1"
      },
      "outputs": [],
      "source": [
        "learn.fine_tune(epochs=5, base_lr=lrs.minimum, cbs=[ShowGraphCallback(),])"
      ]
    },
    {
      "cell_type": "code",
      "execution_count": null,
      "id": "INvf0DNB-NyO",
      "metadata": {
        "colab": {
          "background_save": true
        },
        "id": "INvf0DNB-NyO"
      },
      "outputs": [],
      "source": [
        "learn.save(\"./somnolence_model_q4\")"
      ]
    },
    {
      "cell_type": "markdown",
      "id": "70246816-6ebc-4803-a1f4-d706ac32a10b",
      "metadata": {
        "id": "70246816-6ebc-4803-a1f4-d706ac32a10b"
      },
      "source": [
        "***Question 5: Entraînez votre modèle à nouveau jusqu’à la dégradation (forte ameliorementation) du loss de\n",
        "l’ensemble de validation. Précisez le numéro de l’époque où cette divergence du loss a\n",
        "débuté et la meilleure performance obtenue.***"
      ]
    },
    {
      "cell_type": "code",
      "execution_count": null,
      "id": "750cb903-8584-474c-8ebc-68d006299097",
      "metadata": {
        "id": "750cb903-8584-474c-8ebc-68d006299097"
      },
      "outputs": [],
      "source": [
        "learn2 = cnn_learner(dls, resnet18, metrics=[error_rate])\n",
        "learn2.fine_tune(epochs=25, base_lr=lrs.minimum, cbs=[ShowGraphCallback(),])"
      ]
    },
    {
      "cell_type": "code",
      "execution_count": null,
      "id": "8eea5e7d-d9fd-4f51-bf8f-08d1c6113e19",
      "metadata": {
        "id": "8eea5e7d-d9fd-4f51-bf8f-08d1c6113e19"
      },
      "outputs": [],
      "source": [
        "learn2.save(\"./somnolence_model_q5\")"
      ]
    },
    {
      "cell_type": "markdown",
      "id": "6bd08ea5-98c4-4d46-af32-707816ace88f",
      "metadata": {
        "id": "6bd08ea5-98c4-4d46-af32-707816ace88f"
      },
      "source": [
        "***(6. Entraînez de nouveau votre modèle en effectuant des changements de sorte à améliorer\n",
        "la performance du modèle. Il est recommandé de lire la documentation afin de découvrir\n",
        "certaines techniques d’apprentissage améliorant la performance de votre modèle.)***"
      ]
    },
    {
      "cell_type": "code",
      "execution_count": null,
      "id": "5111fbd4-f5c0-419e-98ec-b352f8ddb19e",
      "metadata": {
        "id": "5111fbd4-f5c0-419e-98ec-b352f8ddb19e"
      },
      "outputs": [],
      "source": [
        "amelioration = [\n",
        "        Rotate(360, p=1, mode='bilinear'), \n",
        "        Brightness(max_lighting=0.9, p=0.35),\n",
        "        Contrast(max_lighting=0.4, p=0.25),\n",
        "        RandomErasing(p=0.2, sl=0.0, sh=0.2, min_aspect=0.3, max_count=2),\n",
        "        Flip(p=1),\n",
        "        Zoom(max_zoom=1.1,p=0.1),\n",
        "        RandomResizedCrop(224)\n",
        "    ]\n",
        "\n",
        "\n",
        "dls_ameliore = ImageDataLoaders.from_df(\n",
        "    df,\n",
        "    'imgs/', \n",
        "    folder='train', \n",
        "    valid_col='for_test', \n",
        "    fn_col=4, \n",
        "    item_tfms=Resize(224),\n",
        "    batch_tfms=amelioration,\n",
        "    label_col=1,\n",
        "    seed=seed)\n",
        "\n",
        "dls_ameliore.show_batch()"
      ]
    },
    {
      "cell_type": "code",
      "execution_count": null,
      "id": "e464edb9-cf79-43c6-81d8-a7528ecf98c7",
      "metadata": {
        "id": "e464edb9-cf79-43c6-81d8-a7528ecf98c7"
      },
      "outputs": [],
      "source": [
        "learn_ameliore = cnn_learner(dls_ameliore, resnet18, metrics=[error_rate])\n",
        "lrs_ameliore = learn_ameliore.lr_find(suggest_funcs=(minimum, steep, valley, slide))"
      ]
    },
    {
      "cell_type": "code",
      "execution_count": null,
      "id": "3a6e6dbf-647e-4616-821d-a7e759291c70",
      "metadata": {
        "id": "3a6e6dbf-647e-4616-821d-a7e759291c70"
      },
      "outputs": [],
      "source": [
        "learn_ameliore.fine_tune(epochs=25, base_lr=lrs_ameliore.minimum, cbs=[ShowGraphCallback(),])"
      ]
    },
    {
      "cell_type": "code",
      "execution_count": null,
      "id": "d775b61d-ed4f-40c4-848e-29367740ce5a",
      "metadata": {
        "id": "d775b61d-ed4f-40c4-848e-29367740ce5a"
      },
      "outputs": [],
      "source": [
        "learn_ameliore.save(\"./somnolence_model_q6\")"
      ]
    },
    {
      "cell_type": "markdown",
      "id": "825b9df2-b70d-4844-bb40-2c0a6970c9f1",
      "metadata": {
        "id": "825b9df2-b70d-4844-bb40-2c0a6970c9f1"
      },
      "source": [
        "***Question 7. Présentez les résultats de votre modèle et critiquez-le.***"
      ]
    },
    {
      "cell_type": "code",
      "execution_count": null,
      "id": "e2df0c35-70b3-43ff-abe2-d726e6309e09",
      "metadata": {
        "id": "e2df0c35-70b3-43ff-abe2-d726e6309e09"
      },
      "outputs": [],
      "source": [
        "interp = ClassificationInterpretation.from_learner(learn_ameliore)\n",
        "interp.plot_confusion_matrix(figsize=(12,12), dpi=60)"
      ]
    },
    {
      "cell_type": "code",
      "execution_count": null,
      "id": "2f2c5b5b-1651-4b62-bddf-31ff29708c9c",
      "metadata": {
        "id": "2f2c5b5b-1651-4b62-bddf-31ff29708c9c"
      },
      "outputs": [],
      "source": [
        "interp.print_classification_report()"
      ]
    },
    {
      "cell_type": "markdown",
      "id": "d5b2ee0e-ff42-4516-aa8f-88c1fd13b550",
      "metadata": {
        "id": "d5b2ee0e-ff42-4516-aa8f-88c1fd13b550"
      },
      "source": [
        "***Question 8: À l’aide des outils vus en cours, diagnostiquez 6 prédictions à raison de 2 prédictions pour\n",
        "chacune des 3 classes ayant enregistré les plus mauvaises performances. Expliquez les\n",
        "raisons de ces erreurs pour chaque classe. Quelles suggestions pouvez vous faire pour\n",
        "l’amélioration du modèle ?***"
      ]
    },
    {
      "cell_type": "code",
      "execution_count": null,
      "id": "0cc57cf6-7d44-4267-b77b-90edd4380992",
      "metadata": {
        "id": "0cc57cf6-7d44-4267-b77b-90edd4380992"
      },
      "outputs": [],
      "source": [
        "interp.most_confused(min_val=50)"
      ]
    },
    {
      "cell_type": "markdown",
      "id": "ac15d9c7-c944-41c1-a498-b432ab1fc286",
      "metadata": {
        "id": "ac15d9c7-c944-41c1-a498-b432ab1fc286"
      },
      "source": [
        "9. Bonus: Entraînez votre modèle sur tout le dataset et soumettez-le sur kaggle par\n",
        "l’intermédiaire de ceux qui y ont accès en associant votre nom à la soumission afin de\n",
        "vous distinguer."
      ]
    }
  ],
  "metadata": {
    "accelerator": "GPU",
    "colab": {
      "collapsed_sections": [],
      "name": "Copie de dp_projet.ipynb",
      "provenance": [],
      "toc_visible": true,
      "include_colab_link": true
    },
    "kernelspec": {
      "display_name": "Python 3 (ipykernel)",
      "language": "python",
      "name": "python3"
    },
    "language_info": {
      "codemirror_mode": {
        "name": "ipython",
        "version": 3
      },
      "file_extension": ".py",
      "mimetype": "text/x-python",
      "name": "python",
      "nbconvert_exporter": "python",
      "pygments_lexer": "ipython3",
      "version": "3.8.3"
    }
  },
  "nbformat": 4,
  "nbformat_minor": 5
}